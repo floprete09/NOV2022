{
 "cells": [
  {
   "cell_type": "code",
   "execution_count": 1,
   "id": "e19f5245",
   "metadata": {},
   "outputs": [
    {
     "name": "stdout",
     "output_type": "stream",
     "text": [
      "('mozzarella', 'cinderella', 'salmonella')\n"
     ]
    }
   ],
   "source": [
    "things=(\"mozzarella\",\"cinderella\", \"salmonella\")\n",
    "\n",
    "print (things)"
   ]
  },
  {
   "cell_type": "code",
   "execution_count": 5,
   "id": "e2419727",
   "metadata": {},
   "outputs": [
    {
     "name": "stdout",
     "output_type": "stream",
     "text": [
      "('mozzarella', 'Cinderella', 'salmonella')\n"
     ]
    }
   ],
   "source": [
    "things=(\"mozzarella\",\"Cinderella\", \"salmonella\")\n",
    "print (things)"
   ]
  },
  {
   "cell_type": "code",
   "execution_count": 6,
   "id": "bbbf84ae",
   "metadata": {},
   "outputs": [
    {
     "name": "stdout",
     "output_type": "stream",
     "text": [
      "('MOZZARELLA', 'Cinderella', 'salmonella')\n"
     ]
    }
   ],
   "source": [
    "things=(\"MOZZARELLA\",\"Cinderella\", \"salmonella\")\n",
    "print (things)"
   ]
  },
  {
   "cell_type": "code",
   "execution_count": 7,
   "id": "9c655059",
   "metadata": {},
   "outputs": [
    {
     "name": "stdout",
     "output_type": "stream",
     "text": [
      "['mozzarella', 'cinderella']\n"
     ]
    }
   ],
   "source": [
    "things=[\"mozzarella\",\"cinderella\",\"salmonella\"]\n",
    "things.remove(\"salmonella\")\n",
    "\n",
    "\n",
    "print (things)"
   ]
  },
  {
   "cell_type": "code",
   "execution_count": 9,
   "id": "f7da2970",
   "metadata": {},
   "outputs": [
    {
     "name": "stdout",
     "output_type": "stream",
     "text": [
      "['Harry', 'Ron', 'Hermione']\n"
     ]
    }
   ],
   "source": [
    "def good():\n",
    "   return ['Harry','Ron','Hermione']\n",
    "print(good())"
   ]
  },
  {
   "cell_type": "code",
   "execution_count": 10,
   "id": "69861a14",
   "metadata": {},
   "outputs": [
    {
     "name": "stdout",
     "output_type": "stream",
     "text": [
      "The third odd number is 5\n"
     ]
    }
   ],
   "source": [
    "def get_odds():\n",
    "     for number in range(1, 10, 2):\n",
    "         yield number\n",
    "\n",
    "count = 1\n",
    "for number in get_odds():\n",
    "     if count == 3:\n",
    "         print(\"The third odd number is\", number)\n",
    "         break\n",
    "     count += 1"
   ]
  },
  {
   "cell_type": "code",
   "execution_count": null,
   "id": "816c754e",
   "metadata": {},
   "outputs": [],
   "source": []
  }
 ],
 "metadata": {
  "kernelspec": {
   "display_name": "Python 3",
   "language": "python",
   "name": "python3"
  },
  "language_info": {
   "codemirror_mode": {
    "name": "ipython",
    "version": 3
   },
   "file_extension": ".py",
   "mimetype": "text/x-python",
   "name": "python",
   "nbconvert_exporter": "python",
   "pygments_lexer": "ipython3",
   "version": "3.6.9"
  }
 },
 "nbformat": 4,
 "nbformat_minor": 5
}
