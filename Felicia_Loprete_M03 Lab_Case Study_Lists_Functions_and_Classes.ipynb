{
 "cells": [
  {
   "cell_type": "code",
   "execution_count": 1,
   "id": "18254a67",
   "metadata": {},
   "outputs": [
    {
     "name": "stdout",
     "output_type": "stream",
     "text": [
      "What is the type of vehicle?: Truck\n",
      "What is the year?: 2016\n",
      "What is the manufacturer: Dodge\n",
      "What is the model: Ram\n",
      "How many doors does it have?: 2 doors\n",
      "Do you have a solid roof or a sun roof: Solid\n",
      "\n",
      "Vehicle Type: Truck\n",
      "\n",
      "Year: 2016\n",
      "\n",
      "Make: Dodge\n",
      "\n",
      "Model: Ram\n",
      "\n",
      "Number of doors: 2 doors\n",
      "\n",
      "Type of roof: Solid\n"
     ]
    }
   ],
   "source": [
    "class Vehicle:\n",
    "    def __init__(self,type):\n",
    "        self.type=type\n",
    "\n",
    "class Automobile(Vehicle):\n",
    "    def __init__ (self, type, year, make, model, doors, roof):\n",
    "        super(). __init__(type)\n",
    "        self.year=year\n",
    "        self.make=make\n",
    "        self.model=model\n",
    "        self.doors=doors\n",
    "        self.roof=roof\n",
    "\n",
    "type_i=input (\"What is the type of vehicle?: \")\n",
    "year_i =input(\"What is the year?: \")\n",
    "make_i=input(\"What is the manufacturer: \")\n",
    "model_i=input(\"What is the model: \")\n",
    "doors_i=input(\"How many doors does it have?: \")\n",
    "roof_i=input (\"Do you have a solid roof or a sun roof: \")\n",
    "A=Automobile(type_i, year_i, make_i, model_i, doors_i, roof_i)\n",
    "\n",
    "print (\"\\nVehicle Type: \"+A.type)\n",
    "print(\"\\nYear: \"+A.year)\n",
    "print(\"\\nMake: \"+A.make)\n",
    "print(\"\\nModel: \"+A.model)\n",
    "print(\"\\nNumber of doors: \"+A.doors)\n",
    "print(\"\\nType of roof: \"+A.roof)\n"
   ]
  },
  {
   "cell_type": "code",
   "execution_count": null,
   "id": "c0695313",
   "metadata": {},
   "outputs": [],
   "source": []
  }
 ],
 "metadata": {
  "kernelspec": {
   "display_name": "Python 3",
   "language": "python",
   "name": "python3"
  },
  "language_info": {
   "codemirror_mode": {
    "name": "ipython",
    "version": 3
   },
   "file_extension": ".py",
   "mimetype": "text/x-python",
   "name": "python",
   "nbconvert_exporter": "python",
   "pygments_lexer": "ipython3",
   "version": "3.6.9"
  }
 },
 "nbformat": 4,
 "nbformat_minor": 5
}
