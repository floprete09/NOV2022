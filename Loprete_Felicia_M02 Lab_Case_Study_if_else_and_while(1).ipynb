{
 "cells": [
  {
   "cell_type": "code",
   "execution_count": 1,
   "id": "84d9d504",
   "metadata": {},
   "outputs": [
    {
     "name": "stdout",
     "output_type": "stream",
     "text": [
      "What is your last name? Rubble\n",
      "What is your first name? Barney\n",
      "Great! If you want to know if you qualify for the Deans list or the Honor roll you will need to enter in your GPA. What is your GPA? 3.9\n",
      "Awesome Barney Rubble! You qualify for Dean's list\n",
      "\n",
      " What is your last name? Rubble\n",
      "What is your first name? Betty\n",
      "Great! If you want to know if you qualify for the Deans list or the Honor roll you will need to enter in your GPA. What is your GPA? 3.4\n",
      "GreatBetty Rubble! You qualify for the Honor roll!\n",
      "\n",
      " What is your last name? Flintstone\n",
      "What is your first name? Fred\n",
      "Great! If you want to know if you qualify for the Deans list or the Honor roll you will need to enter in your GPA. What is your GPA? 2.4\n",
      "I'm sorry, you do not qualify for the Dean's list or the Honor roll at this time but keep studying and hopefully you will get it next time!\n",
      "\n",
      " What is your last name? Flintstone\n",
      "What is your first name? Wilma\n",
      "Great! If you want to know if you qualify for the Deans list or the Honor roll you will need to enter in your GPA. What is your GPA? 4.0\n",
      "Awesome Wilma Flintstone! You qualify for Dean's list\n",
      "\n",
      " What is your last name? Flintstone\n",
      "What is your first name? Dino\n",
      "Great! If you want to know if you qualify for the Deans list or the Honor roll you will need to enter in your GPA. What is your GPA? 3.0\n",
      "I'm sorry, you do not qualify for the Dean's list or the Honor roll at this time but keep studying and hopefully you will get it next time!\n",
      "\n",
      " What is your last name? zzz\n"
     ]
    }
   ],
   "source": [
    "#Felicia Loprete\n",
    "#Honors Qualification App\n",
    "#This app will tell you based on your GPA if you qualify for the Dean's list, the Honor Roll, \n",
    "#or neither at this time. You must enter in your first and last names and your GPA to continue. \n",
    "\n",
    "last_name=input(\"What is your last name? \")\n",
    "while last_name!=\"zzz\":\n",
    "    \n",
    "    first_name=(input(\"What is your first name? \"))\n",
    "    GPA=float(input(\"Great! If you want to know if you qualify for the Deans list or the Honor roll you will need to enter in your GPA. What is your GPA? \"))\n",
    "    if GPA >=3.5:\n",
    "        print (\"Awesome {} {}! You qualify for Dean's list\".format(first_name, last_name))\n",
    "    else:\n",
    "        if GPA>=3.25:\n",
    "            print(\"Great{} {}! You qualify for the Honor roll!\".format(first_name, last_name))\n",
    "        else:\n",
    "            if GPA<3.25:\n",
    "                print(\"I'm sorry, you do not qualify for the Dean's list or the Honor roll at this time but keep studying and hopefully you will get it next time!\")\n",
    "    last_name=input(\"\\n What is your last name? \")"
   ]
  },
  {
   "cell_type": "code",
   "execution_count": null,
   "id": "bf2e52ea",
   "metadata": {},
   "outputs": [],
   "source": []
  }
 ],
 "metadata": {
  "kernelspec": {
   "display_name": "Python 3",
   "language": "python",
   "name": "python3"
  },
  "language_info": {
   "codemirror_mode": {
    "name": "ipython",
    "version": 3
   },
   "file_extension": ".py",
   "mimetype": "text/x-python",
   "name": "python",
   "nbconvert_exporter": "python",
   "pygments_lexer": "ipython3",
   "version": "3.6.8"
  }
 },
 "nbformat": 4,
 "nbformat_minor": 5
}
