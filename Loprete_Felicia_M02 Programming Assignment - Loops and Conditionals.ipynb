{
 "cells": [
  {
   "cell_type": "code",
   "execution_count": 1,
   "id": "317e13ce",
   "metadata": {},
   "outputs": [
    {
     "name": "stdout",
     "output_type": "stream",
     "text": [
      "Too high\n"
     ]
    }
   ],
   "source": [
    "Secret=6\n",
    "Guess=1\n",
    "\n",
    "if Secret<Guess:\n",
    "    print (\"Too low\")\n",
    "else:\n",
    "    if Guess<Secret:\n",
    "        print (\"Too high\")\n",
    "    elif Guess==Secret:\n",
    "        print (\"'just right\")\n"
   ]
  },
  {
   "cell_type": "code",
   "execution_count": 2,
   "id": "83ecaae5",
   "metadata": {},
   "outputs": [
    {
     "name": "stdout",
     "output_type": "stream",
     "text": [
      "Pumpkin\n"
     ]
    }
   ],
   "source": [
    "(green)=False\n",
    "(small)=True\n",
    "\n",
    "if (green):\n",
    "    if(small):\n",
    "        print (\"Pea\")\n",
    "    else: \n",
    "        print (\"cherry\")\n",
    "else:\n",
    "    if (green):\n",
    "        print (\"Watermellon\")\n",
    "    else:\n",
    "        print (\"Pumpkin\")"
   ]
  },
  {
   "cell_type": "code",
   "execution_count": 3,
   "id": "ae36a924",
   "metadata": {},
   "outputs": [
    {
     "name": "stdout",
     "output_type": "stream",
     "text": [
      "3\n",
      "2\n",
      "1\n",
      "0\n"
     ]
    }
   ],
   "source": [
    "list=[3,2,1,0]\n",
    "for x in list:\n",
    "    print(x)"
   ]
  },
  {
   "cell_type": "code",
   "execution_count": 4,
   "id": "7362c8d4",
   "metadata": {},
   "outputs": [
    {
     "name": "stdout",
     "output_type": "stream",
     "text": [
      "Too low\n"
     ]
    }
   ],
   "source": [
    "guess_me=7\n",
    "number=1\n",
    "\n",
    "if number<guess_me:\n",
    "    print (\"Too low\")\n",
    "else:\n",
    "    if number==guess_me:\n",
    "        print (\"Found it!\")\n",
    "    exit\n",
    "if number>guess_me:\n",
    "    print(\"Oops\")\n",
    "    exit"
   ]
  },
  {
   "cell_type": "code",
   "execution_count": 5,
   "id": "0b183404",
   "metadata": {},
   "outputs": [
    {
     "name": "stdout",
     "output_type": "stream",
     "text": [
      "Too low\n",
      "Too low\n",
      "Too low\n",
      "Too low\n",
      "Too low\n",
      "found it!\n"
     ]
    }
   ],
   "source": [
    "Guess_me=5\n",
    "for number in range(10):\n",
    "    if number< Guess_me:\n",
    "        print (\"Too low\")\n",
    "    if number==Guess_me:\n",
    "        print(\"found it!\")\n",
    "        break\n",
    "    if number>Guess_me:\n",
    "        print(\"Oops!\")\n",
    "        exit"
   ]
  },
  {
   "cell_type": "code",
   "execution_count": null,
   "id": "4aa93cfc",
   "metadata": {},
   "outputs": [],
   "source": []
  }
 ],
 "metadata": {
  "kernelspec": {
   "display_name": "Python 3",
   "language": "python",
   "name": "python3"
  },
  "language_info": {
   "codemirror_mode": {
    "name": "ipython",
    "version": 3
   },
   "file_extension": ".py",
   "mimetype": "text/x-python",
   "name": "python",
   "nbconvert_exporter": "python",
   "pygments_lexer": "ipython3",
   "version": "3.6.8"
  }
 },
 "nbformat": 4,
 "nbformat_minor": 5
}
